{
 "cells": [
  {
   "cell_type": "code",
   "execution_count": 43,
   "id": "f57532e0",
   "metadata": {},
   "outputs": [
    {
     "name": "stdout",
     "output_type": "stream",
     "text": [
      "Give me a number to work with: 12\n",
      "Give me a guess: 10\n",
      "You took too many guesses\n",
      "Give me a guess: 9\n",
      "You took too many guesses\n",
      "Give me a guess: 8\n",
      "Congrats you got it!\n",
      "It only took you 3 guesses\n"
     ]
    }
   ],
   "source": [
    "import random\n",
    "\n",
    "top_of_range = input('Give me a number to work with: ')\n",
    "\n",
    "if top_of_range.isdigit():\n",
    "    top_of_range = int(top_of_range)\n",
    "    \n",
    "    if top_of_range <= 0:\n",
    "        print('Please type a number larger than 0 next time.')\n",
    "        quit()\n",
    "else:\n",
    "    print(' Please type a number next time.')\n",
    "    quit()\n",
    "        \n",
    "random_number = random.randint(0,top_of_range)\n",
    "guesses = 0\n",
    "\n",
    "while True:\n",
    "    guesses += 1\n",
    "    user_guess = input('Give me a guess: ')\n",
    "    if user_guess.isdigit():\n",
    "        user_guess = int(user_guess)\n",
    "    else:\n",
    "        print(' Please type a number next time.')\n",
    "        continue\n",
    "        \n",
    "    if user_guess == random_number:\n",
    "        print('Congrats you got it!')\n",
    "        break\n",
    "    elif user_guess > random_number:\n",
    "            print('You took too many guesses')\n",
    "    else:\n",
    "            print('You are smart')\n",
    "        \n",
    "print('It only took you', guesses, 'guesses')"
   ]
  },
  {
   "cell_type": "code",
   "execution_count": null,
   "id": "38ca1210",
   "metadata": {},
   "outputs": [],
   "source": [
    "print('It only took you', guesses, 'guesses dipshit')"
   ]
  }
 ],
 "metadata": {
  "kernelspec": {
   "display_name": "Python 3 (ipykernel)",
   "language": "python",
   "name": "python3"
  },
  "language_info": {
   "codemirror_mode": {
    "name": "ipython",
    "version": 3
   },
   "file_extension": ".py",
   "mimetype": "text/x-python",
   "name": "python",
   "nbconvert_exporter": "python",
   "pygments_lexer": "ipython3",
   "version": "3.9.12"
  }
 },
 "nbformat": 4,
 "nbformat_minor": 5
}
