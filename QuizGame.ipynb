{
 "cells": [
  {
   "cell_type": "code",
   "execution_count": 6,
   "id": "c1291809",
   "metadata": {},
   "outputs": [
    {
     "name": "stdout",
     "output_type": "stream",
     "text": [
      "Welcome to the quiz game show!\n",
      "Do you want to participate? yes\n",
      "Come on down, Lets play the quiz game!\n",
      "Is every villain is lemons a true statement? yes\n",
      "Correct!\n",
      "How many rings did Kobe have? five\n",
      "Correct!\n",
      "Where do you work? pds\n",
      "Correct!\n",
      "Is it sunny outside? yes\n",
      "Correct!\n",
      "You got a total of 4 questions correct!\n",
      "You got a total of 100.0%\n"
     ]
    }
   ],
   "source": [
    "# Ask the user a bunch of questions, keep track of score and provide a score at the end\n",
    "\n",
    "#intro statement\n",
    "print('Welcome to the quiz game show!')\n",
    "\n",
    "#prompt\n",
    "play = input('Do you want to participate? ')\n",
    "\n",
    "#participation confirmation\n",
    "if play.lower() != 'yes':\n",
    "    quit()\n",
    "\n",
    "print('Come on down, Lets play the quiz game!')\n",
    "#created the variable score to start keeping track\n",
    "score = 0\n",
    "\n",
    "#question one\n",
    "answer = input('Is every villain is lemons a true statement? ')\n",
    "if answer.lower() == 'yes':\n",
    "    print('Correct!')\n",
    "    score += 1\n",
    "else:\n",
    "    print('Wrrrrrrrrrrrrrrrong *Donald Trump Voice*')\n",
    "\n",
    "#question two\n",
    "answer = input('How many rings did Kobe have? ')\n",
    "if answer.lower() == 'five':\n",
    "    print('Correct!')\n",
    "    score += 1\n",
    "else:\n",
    "    print('Wrrrrrrrrrrrrrrrong *Donald Trump Voice*')\n",
    "    \n",
    "#question three\n",
    "answer = input('Where do you work? ')\n",
    "if answer.lower() == 'pds':\n",
    "    print('Correct!')\n",
    "    score += 1\n",
    "else:\n",
    "    print('Wrrrrrrrrrrrrrrrong *Donald Trump Voice*')\n",
    "    \n",
    "#question four\n",
    "answer = input('Is it sunny outside? ')\n",
    "if answer.lower() == 'yes':\n",
    "    print('Correct!')\n",
    "    score += 1\n",
    "else:\n",
    "    print('Wrrrrrrrrrrrrrrrong *Donald Trump Voice*')\n",
    "\n",
    "      \n",
    "print('You got a total of ' + str(score) + ' questions correct!')\n",
    "print('You got a total of ' + str((score / 4) * 100) + '%')\n"
   ]
  },
  {
   "cell_type": "code",
   "execution_count": null,
   "id": "bcb8ce01",
   "metadata": {},
   "outputs": [],
   "source": []
  }
 ],
 "metadata": {
  "kernelspec": {
   "display_name": "Python 3 (ipykernel)",
   "language": "python",
   "name": "python3"
  },
  "language_info": {
   "codemirror_mode": {
    "name": "ipython",
    "version": 3
   },
   "file_extension": ".py",
   "mimetype": "text/x-python",
   "name": "python",
   "nbconvert_exporter": "python",
   "pygments_lexer": "ipython3",
   "version": "3.9.12"
  }
 },
 "nbformat": 4,
 "nbformat_minor": 5
}
